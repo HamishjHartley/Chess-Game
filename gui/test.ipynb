{
 "cells": [
  {
   "cell_type": "code",
   "execution_count": 2,
   "metadata": {},
   "outputs": [
    {
     "ename": "UnidentifiedImageError",
     "evalue": "cannot identify image file 'C:/Users/theha/OneDrive/Desktop/Chess-Game/gui\\\\test.ipynb'",
     "output_type": "error",
     "traceback": [
      "\u001b[1;31m---------------------------------------------------------------------------\u001b[0m",
      "\u001b[1;31mUnidentifiedImageError\u001b[0m                    Traceback (most recent call last)",
      "\u001b[1;32mc:\\Users\\theha\\OneDrive\\Desktop\\Chess-Game\\gui\\test.ipynb Cell 1\u001b[0m line \u001b[0;36m1\n\u001b[0;32m      <a href='vscode-notebook-cell:/c%3A/Users/theha/OneDrive/Desktop/Chess-Game/gui/test.ipynb#W1sZmlsZQ%3D%3D?line=8'>9</a>\u001b[0m             images\u001b[39m.\u001b[39mappend(img)\n\u001b[0;32m     <a href='vscode-notebook-cell:/c%3A/Users/theha/OneDrive/Desktop/Chess-Game/gui/test.ipynb#W1sZmlsZQ%3D%3D?line=9'>10</a>\u001b[0m     \u001b[39mreturn\u001b[39;00m images\n\u001b[1;32m---> <a href='vscode-notebook-cell:/c%3A/Users/theha/OneDrive/Desktop/Chess-Game/gui/test.ipynb#W1sZmlsZQ%3D%3D?line=11'>12</a>\u001b[0m load_images_from_folder(\u001b[39m\"\u001b[39;49m\u001b[39mC:/Users/theha/OneDrive/Desktop/Chess-Game/gui\u001b[39;49m\u001b[39m\"\u001b[39;49m)\n",
      "\u001b[1;32mc:\\Users\\theha\\OneDrive\\Desktop\\Chess-Game\\gui\\test.ipynb Cell 1\u001b[0m line \u001b[0;36m7\n\u001b[0;32m      <a href='vscode-notebook-cell:/c%3A/Users/theha/OneDrive/Desktop/Chess-Game/gui/test.ipynb#W1sZmlsZQ%3D%3D?line=4'>5</a>\u001b[0m images \u001b[39m=\u001b[39m []\n\u001b[0;32m      <a href='vscode-notebook-cell:/c%3A/Users/theha/OneDrive/Desktop/Chess-Game/gui/test.ipynb#W1sZmlsZQ%3D%3D?line=5'>6</a>\u001b[0m \u001b[39mfor\u001b[39;00m filename \u001b[39min\u001b[39;00m os\u001b[39m.\u001b[39mlistdir(folder):\n\u001b[1;32m----> <a href='vscode-notebook-cell:/c%3A/Users/theha/OneDrive/Desktop/Chess-Game/gui/test.ipynb#W1sZmlsZQ%3D%3D?line=6'>7</a>\u001b[0m     img \u001b[39m=\u001b[39m Image\u001b[39m.\u001b[39;49mopen(os\u001b[39m.\u001b[39;49mpath\u001b[39m.\u001b[39;49mjoin(folder,filename))\n\u001b[0;32m      <a href='vscode-notebook-cell:/c%3A/Users/theha/OneDrive/Desktop/Chess-Game/gui/test.ipynb#W1sZmlsZQ%3D%3D?line=7'>8</a>\u001b[0m     \u001b[39mif\u001b[39;00m img \u001b[39mis\u001b[39;00m \u001b[39mnot\u001b[39;00m \u001b[39mNone\u001b[39;00m:\n\u001b[0;32m      <a href='vscode-notebook-cell:/c%3A/Users/theha/OneDrive/Desktop/Chess-Game/gui/test.ipynb#W1sZmlsZQ%3D%3D?line=8'>9</a>\u001b[0m         images\u001b[39m.\u001b[39mappend(img)\n",
      "File \u001b[1;32mc:\\Users\\theha\\AppData\\Local\\Programs\\Python\\Python310\\lib\\site-packages\\PIL\\Image.py:3283\u001b[0m, in \u001b[0;36mopen\u001b[1;34m(fp, mode, formats)\u001b[0m\n\u001b[0;32m   3281\u001b[0m     warnings\u001b[39m.\u001b[39mwarn(message)\n\u001b[0;32m   3282\u001b[0m msg \u001b[39m=\u001b[39m \u001b[39m\"\u001b[39m\u001b[39mcannot identify image file \u001b[39m\u001b[39m%r\u001b[39;00m\u001b[39m\"\u001b[39m \u001b[39m%\u001b[39m (filename \u001b[39mif\u001b[39;00m filename \u001b[39melse\u001b[39;00m fp)\n\u001b[1;32m-> 3283\u001b[0m \u001b[39mraise\u001b[39;00m UnidentifiedImageError(msg)\n",
      "\u001b[1;31mUnidentifiedImageError\u001b[0m: cannot identify image file 'C:/Users/theha/OneDrive/Desktop/Chess-Game/gui\\\\test.ipynb'"
     ]
    }
   ],
   "source": [
    "from PIL import Image\n",
    "import os\n",
    "\n",
    "def load_images_from_folder(folder):\n",
    "    images = []\n",
    "    for filename in os.listdir(folder):\n",
    "        img = Image.open(os.path.join(folder,filename))\n",
    "        if img is not None:\n",
    "            images.append(img)\n",
    "    return images\n",
    "\n",
    "load_images_from_folder(\"C:/Users/theha/OneDrive/Desktop/Chess-Game/gui/icons\")"
   ]
  }
 ],
 "metadata": {
  "kernelspec": {
   "display_name": "Python 3",
   "language": "python",
   "name": "python3"
  },
  "language_info": {
   "codemirror_mode": {
    "name": "ipython",
    "version": 3
   },
   "file_extension": ".py",
   "mimetype": "text/x-python",
   "name": "python",
   "nbconvert_exporter": "python",
   "pygments_lexer": "ipython3",
   "version": "3.10.10"
  }
 },
 "nbformat": 4,
 "nbformat_minor": 2
}
